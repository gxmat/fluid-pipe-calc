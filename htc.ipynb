{
 "cells": [
  {
   "attachments": {},
   "cell_type": "markdown",
   "metadata": {},
   "source": [
    "To do:\n",
    "\n",
    "- https://hal.science/hal-01586547/document\n",
    "- optional Web UI"
   ]
  },
  {
   "cell_type": "code",
   "execution_count": 8,
   "metadata": {},
   "outputs": [],
   "source": [
    "import CoolProp.CoolProp as cp\n",
    "from math import pi, log10"
   ]
  },
  {
   "cell_type": "code",
   "execution_count": 9,
   "metadata": {},
   "outputs": [],
   "source": [
    "# PropsSI uses SI Units https://en.wikipedia.org/wiki/International_System_of_Units \n",
    "# PropsSI available properties http://www.coolprop.org/coolprop/HighLevelAPI.html#table-of-string-inputs-to-propssi-function \n",
    "\n",
    "class fluid_properties:\n",
    "    def __init__(self, fluid, temperature, pressure, mass_flowrate):\n",
    "        temperature_si = temperature + 273.15\n",
    "        pressure_si = pressure * 100000\n",
    "        \n",
    "        self.density = cp.PropsSI('D','T',temperature_si,'P',pressure_si,fluid) # kg/m3\n",
    "        self.dynamic_viscosity = cp.PropsSI('V','T',temperature_si,'P',pressure_si,fluid) # Pa.s\n",
    "        self.specific_heat = cp.PropsSI('C','T',temperature_si,'P',pressure_si,fluid) # J/kg.K\n",
    "        self.thermal_conductivity = cp.PropsSI('CONDUCTIVITY','T',temperature_si,'P',pressure_si,fluid) # W/m.K\n",
    "        self.pr_number = cp.PropsSI('PRANDTL','T',temperature_si,'P',pressure_si,fluid)\n",
    "        self.phase = cp.PhaseSI('T',temperature_si,'P',pressure_si,fluid)\n",
    "\n",
    "        self.mass_flowrate = mass_flowrate\n",
    "        self.volumetric_flowrate = self.mass_flowrate / self.density"
   ]
  },
  {
   "cell_type": "code",
   "execution_count": 10,
   "metadata": {},
   "outputs": [],
   "source": [
    "# Pipe and fluid parameters calculation\n",
    "\n",
    "class pipe_properties:\n",
    "    def __init__(self, od, thickness, length, roughness):\n",
    "        self.id = od - (2 * thickness) #m\n",
    "        self.length = length #m\n",
    "        self.flow_area = 0.25 * pi * (self.id ** 2) # m2\n",
    "        self.relative_roughness = roughness / self.id"
   ]
  },
  {
   "cell_type": "code",
   "execution_count": 11,
   "metadata": {},
   "outputs": [],
   "source": [
    "# Gnielinkski correlation https://en.wikipedia.org/wiki/Nusselt_number#Gnielinski_correlation\n",
    "# Friction factor https://en.wikipedia.org/wiki/Darcy_friction_factor_formulae#Haaland_equation \n",
    "\n",
    "def gnielinski(pipe, fluid):\n",
    "    fluid_velocity = fluid.volumetric_flowrate / pipe.flow_area # m/s\n",
    "    re_number = fluid.density * fluid_velocity * pipe.id / fluid.dynamic_viscosity\n",
    "    f = (1 / (-1.8 * log10(((pipe.relative_roughness / 3.7) ** 1.11) + (6.9 / re_number)))) ** 2\n",
    "    nu_number = ((f / 8) * (re_number - 1000) * fluid.pr_number) / (1 + 12.7 * ((f / 8) ** 0.5) * ((fluid.pr_number ** (2/3)) - 1))\n",
    "    htc = nu_number * fluid.thermal_conductivity / pipe.id\n",
    "    return htc"
   ]
  },
  {
   "cell_type": "code",
   "execution_count": 12,
   "metadata": {},
   "outputs": [],
   "source": [
    "# Pipe inputs, dimensions in m\n",
    "# Nominal pipe sizes https://en.wikipedia.org/wiki/Nominal_Pipe_Size \n",
    "\n",
    "pipe_od = 0.01029\n",
    "pipe_thickness = 0.000889\n",
    "pipe_length = 4\n",
    "pipe_roughness = 45e-6\n",
    "\n",
    "pipe1 = pipe_properties(pipe_od, pipe_thickness, pipe_length, pipe_roughness)"
   ]
  },
  {
   "cell_type": "code",
   "execution_count": 13,
   "metadata": {},
   "outputs": [],
   "source": [
    "# Fluid inputs\n",
    "# Available fluids http://www.coolprop.org/fluid_properties/PurePseudoPure.html#list-of-fluids\n",
    "\n",
    "fluid = 'HeavyWater'\n",
    "fluid_temperature = 270 # C\n",
    "fluid_pressure = 150 # bar\n",
    "fluid_mass_flowrate = 0.68 # kg/s\n",
    "\n",
    "fluid1 = fluid_properties(fluid, fluid_temperature, fluid_pressure, fluid_mass_flowrate)"
   ]
  },
  {
   "cell_type": "code",
   "execution_count": 14,
   "metadata": {},
   "outputs": [
    {
     "name": "stdout",
     "output_type": "stream",
     "text": [
      "219204.24624934728\n"
     ]
    }
   ],
   "source": [
    "test = gnielinski(pipe1, fluid1)\n",
    "print(test)"
   ]
  }
 ],
 "metadata": {
  "kernelspec": {
   "display_name": "myenv",
   "language": "python",
   "name": "python3"
  },
  "language_info": {
   "codemirror_mode": {
    "name": "ipython",
    "version": 3
   },
   "file_extension": ".py",
   "mimetype": "text/x-python",
   "name": "python",
   "nbconvert_exporter": "python",
   "pygments_lexer": "ipython3",
   "version": "3.11.2"
  },
  "orig_nbformat": 4
 },
 "nbformat": 4,
 "nbformat_minor": 2
}
