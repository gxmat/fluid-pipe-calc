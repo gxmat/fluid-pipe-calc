{
 "cells": [
  {
   "cell_type": "code",
   "execution_count": 1,
   "metadata": {
    "tags": []
   },
   "outputs": [],
   "source": [
    "import fluid_property as fp\n",
    "import unit_converter as uc"
   ]
  },
  {
   "cell_type": "code",
   "execution_count": 2,
   "metadata": {},
   "outputs": [
    {
     "data": {
      "text/plain": [
       "0.5624451640165885"
      ]
     },
     "execution_count": 2,
     "metadata": {},
     "output_type": "execute_result"
    }
   ],
   "source": [
    "temperature = 200\n",
    "pressure = 1\n",
    "name = \"Water\"\n",
    "\n",
    "temperature_conv = uc.celsius_kelvin(temperature)\n",
    "pressure_conv = uc.bar_pascal(pressure)\n",
    "\n",
    "fluid2 = fp.fluid(name, temperature_conv-100, pressure_conv)\n",
    "c = fluid2.properties.density\n",
    "c\n",
    "fluid2.temperature = 294\n",
    "fluid2.properties.density"
   ]
  }
 ],
 "metadata": {
  "kernelspec": {
   "display_name": ".venv",
   "language": "python",
   "name": "python3"
  },
  "language_info": {
   "codemirror_mode": {
    "name": "ipython",
    "version": 3
   },
   "file_extension": ".py",
   "mimetype": "text/x-python",
   "name": "python",
   "nbconvert_exporter": "python",
   "pygments_lexer": "ipython3",
   "version": "3.11.7"
  }
 },
 "nbformat": 4,
 "nbformat_minor": 2
}
